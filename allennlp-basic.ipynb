{
 "cells": [
  {
   "cell_type": "code",
   "execution_count": 1,
   "metadata": {},
   "outputs": [],
   "source": [
    "%load_ext autoreload\n",
    "%autoreload 2"
   ]
  },
  {
   "cell_type": "code",
   "execution_count": 2,
   "metadata": {},
   "outputs": [],
   "source": [
    "from pathlib import Path\n",
    "from typing import *\n",
    "import torch\n",
    "import torch.optim as optim\n",
    "import numpy as np\n",
    "import pandas as pd\n",
    "from functools import partial\n",
    "from overrides import overrides\n",
    "\n",
    "from allennlp.data import Instance\n",
    "from allennlp.data.token_indexers import TokenIndexer\n",
    "from allennlp.data.tokenizers import Token\n",
    "from allennlp.nn import util as nn_util"
   ]
  },
  {
   "cell_type": "code",
   "execution_count": 3,
   "metadata": {},
   "outputs": [],
   "source": [
    "class Config(dict):\n",
    "    def __init__(self, **kwargs):\n",
    "        super().__init__(**kwargs)\n",
    "        for k, v in kwargs.items():\n",
    "            setattr(self, k, v)\n",
    "    \n",
    "    def set(self, key, val):\n",
    "        self[key] = val\n",
    "        setattr(self, key, val)\n",
    "        \n",
    "config = Config(\n",
    "    testing=True,\n",
    "    seed=1,\n",
    "    batch_size=64,\n",
    "    lr=3e-4,\n",
    "    epochs=2,\n",
    "    hidden_sz=64,\n",
    "    max_seq_len=100, # necessary to limit memory usage\n",
    "    max_vocab_size=100000,\n",
    ")"
   ]
  },
  {
   "cell_type": "code",
   "execution_count": 4,
   "metadata": {},
   "outputs": [],
   "source": [
    "from allennlp.common.checks import ConfigurationError"
   ]
  },
  {
   "cell_type": "code",
   "execution_count": 5,
   "metadata": {},
   "outputs": [
    {
     "data": {
      "text/plain": [
       "False"
      ]
     },
     "execution_count": 5,
     "metadata": {},
     "output_type": "execute_result"
    }
   ],
   "source": [
    "USE_GPU = torch.cuda.is_available()\n",
    "USE_GPU"
   ]
  },
  {
   "cell_type": "code",
   "execution_count": 6,
   "metadata": {},
   "outputs": [
    {
     "data": {
      "text/plain": [
       "PosixPath('data/jigsaw')"
      ]
     },
     "execution_count": 6,
     "metadata": {},
     "output_type": "execute_result"
    }
   ],
   "source": [
    "DATA_ROOT = Path(\"data\") / \"jigsaw\"\n",
    "DATA_ROOT"
   ]
  },
  {
   "cell_type": "code",
   "execution_count": null,
   "metadata": {},
   "outputs": [],
   "source": []
  },
  {
   "cell_type": "markdown",
   "metadata": {},
   "source": [
    "Set random seed manually to replicate results"
   ]
  },
  {
   "cell_type": "code",
   "execution_count": 7,
   "metadata": {},
   "outputs": [
    {
     "data": {
      "text/plain": [
       "<torch._C.Generator at 0x7ff118947930>"
      ]
     },
     "execution_count": 7,
     "metadata": {},
     "output_type": "execute_result"
    }
   ],
   "source": [
    "torch.manual_seed(config.seed)"
   ]
  },
  {
   "cell_type": "code",
   "execution_count": null,
   "metadata": {},
   "outputs": [],
   "source": []
  },
  {
   "cell_type": "markdown",
   "metadata": {},
   "source": [
    "# Load Data"
   ]
  },
  {
   "cell_type": "code",
   "execution_count": 8,
   "metadata": {},
   "outputs": [],
   "source": [
    "from allennlp.data.vocabulary import Vocabulary\n",
    "from allennlp.data.dataset_readers import DatasetReader"
   ]
  },
  {
   "cell_type": "code",
   "execution_count": null,
   "metadata": {},
   "outputs": [],
   "source": []
  },
  {
   "cell_type": "markdown",
   "metadata": {},
   "source": [
    "### Prepare dataset"
   ]
  },
  {
   "cell_type": "code",
   "execution_count": 9,
   "metadata": {},
   "outputs": [],
   "source": [
    "label_cols = [\"toxic\", \"severe_toxic\", \"obscene\",\n",
    "              \"threat\", \"insult\", \"identity_hate\"]"
   ]
  },
  {
   "cell_type": "code",
   "execution_count": 10,
   "metadata": {},
   "outputs": [],
   "source": [
    "from allennlp.data.fields import TextField, MetadataField, ArrayField\n",
    "\n",
    "class JigsawDatasetReader(DatasetReader):\n",
    "    def __init__(self, tokenizer: Callable[[str], List[str]]=lambda x: x.split(),\n",
    "                 token_indexers: Dict[str, TokenIndexer] = None,\n",
    "                 max_seq_len: Optional[int]=config.max_seq_len) -> None:\n",
    "        super().__init__(lazy=False)\n",
    "        self.tokenizer = tokenizer\n",
    "        self.token_indexers = token_indexers or {\"tokens\": SingleIdTokenIndexer()}\n",
    "        self.max_seq_len = max_seq_len\n",
    "\n",
    "    @overrides\n",
    "    def text_to_instance(self, tokens: List[Token], id: str,\n",
    "                         labels: np.ndarray) -> Instance:\n",
    "        sentence_field = TextField(tokens, self.token_indexers)\n",
    "        fields = {\"tokens\": sentence_field}\n",
    "        \n",
    "        id_field = MetadataField(id)\n",
    "        fields[\"id\"] = id_field\n",
    "        \n",
    "        label_field = ArrayField(array=labels)\n",
    "        fields[\"label\"] = label_field\n",
    "\n",
    "        return Instance(fields)\n",
    "    \n",
    "    @overrides\n",
    "    def _read(self, file_path: str) -> Iterator[Instance]:\n",
    "        df = pd.read_csv(file_path)\n",
    "        if config.testing: df = df.head(1000)\n",
    "        for i, row in df.iterrows():\n",
    "            yield self.text_to_instance(\n",
    "                [Token(x) for x in self.tokenizer(row[\"comment_text\"])],\n",
    "                row[\"id\"], row[label_cols].values,\n",
    "            )"
   ]
  },
  {
   "cell_type": "code",
   "execution_count": null,
   "metadata": {},
   "outputs": [],
   "source": []
  },
  {
   "cell_type": "markdown",
   "metadata": {},
   "source": [
    "### Prepare token handlers"
   ]
  },
  {
   "cell_type": "markdown",
   "metadata": {},
   "source": [
    "We will use the spacy tokenizer here"
   ]
  },
  {
   "cell_type": "code",
   "execution_count": 11,
   "metadata": {},
   "outputs": [],
   "source": [
    "from allennlp.data.tokenizers.word_splitter import SpacyWordSplitter\n",
    "from allennlp.data.token_indexers import SingleIdTokenIndexer\n",
    "\n",
    "# the token indexer is responsible for mapping tokens to integers\n",
    "token_indexer = SingleIdTokenIndexer()\n",
    "\n",
    "def tokenizer(x: str):\n",
    "    return [w.text for w in\n",
    "            SpacyWordSplitter(language='en_core_web_sm', \n",
    "                              pos_tags=False).split_words(x)[:config.max_seq_len]]"
   ]
  },
  {
   "cell_type": "code",
   "execution_count": 12,
   "metadata": {},
   "outputs": [],
   "source": [
    "reader = JigsawDatasetReader(\n",
    "    tokenizer=tokenizer,\n",
    "    token_indexers={\"tokens\": token_indexer}\n",
    ")"
   ]
  },
  {
   "cell_type": "code",
   "execution_count": 14,
   "metadata": {},
   "outputs": [
    {
     "name": "stderr",
     "output_type": "stream",
     "text": [
      "\n",
      "0it [00:00, ?it/s]\u001b[A\n",
      "1it [00:00,  1.31it/s]\u001b[A\n",
      "39it [00:00,  1.87it/s]\u001b[A\n",
      "70it [00:00,  2.66it/s]\u001b[A\n",
      "114it [00:01,  3.79it/s]\u001b[A\n",
      "147it [00:01,  5.39it/s]\u001b[A\n",
      "184it [00:01,  7.65it/s]\u001b[A\n",
      "226it [00:01, 10.85it/s]\u001b[A\n",
      "266it [00:01, 15.32it/s]\u001b[A\n",
      "315it [00:01, 21.60it/s]\u001b[A\n",
      "355it [00:01, 30.12it/s]\u001b[A\n",
      "394it [00:01, 41.37it/s]\u001b[A\n",
      "431it [00:01, 56.12it/s]\u001b[A\n",
      "475it [00:02, 75.92it/s]\u001b[A\n",
      "513it [00:02, 98.40it/s]\u001b[A\n",
      "550it [00:02, 124.26it/s]\u001b[A\n",
      "585it [00:02, 147.18it/s]\u001b[A\n",
      "618it [00:02, 175.27it/s]\u001b[A\n",
      "651it [00:02, 190.77it/s]\u001b[A\n",
      "681it [00:02, 211.49it/s]\u001b[A\n",
      "714it [00:02, 236.32it/s]\u001b[A\n",
      "748it [00:02, 259.78it/s]\u001b[A\n",
      "781it [00:03, 275.27it/s]\u001b[A\n",
      "822it [00:03, 305.33it/s]\u001b[A\n",
      "861it [00:03, 325.84it/s]\u001b[A\n",
      "897it [00:03, 273.44it/s]\u001b[A\n",
      "932it [00:03, 291.75it/s]\u001b[A\n",
      "967it [00:03, 305.15it/s]\u001b[A\n",
      "1000it [00:03, 300.53it/s]\u001b[A"
     ]
    }
   ],
   "source": [
    "train_ds,  = (reader.read(DATA_ROOT / fname) for fname in [\"train.csv\", ])\n",
    "val_ds = None"
   ]
  },
  {
   "cell_type": "code",
   "execution_count": 15,
   "metadata": {},
   "outputs": [
    {
     "data": {
      "text/plain": [
       "1000"
      ]
     },
     "execution_count": 15,
     "metadata": {},
     "output_type": "execute_result"
    }
   ],
   "source": [
    "len(train_ds)"
   ]
  },
  {
   "cell_type": "code",
   "execution_count": 16,
   "metadata": {},
   "outputs": [
    {
     "data": {
      "text/plain": [
       "[<allennlp.data.instance.Instance at 0x7ff0bbb6b588>,\n",
       " <allennlp.data.instance.Instance at 0x7ff0bbb615c0>,\n",
       " <allennlp.data.instance.Instance at 0x7ff0bbb4e2b0>,\n",
       " <allennlp.data.instance.Instance at 0x7ff0bbbe5550>,\n",
       " <allennlp.data.instance.Instance at 0x7ff0bbbd42b0>,\n",
       " <allennlp.data.instance.Instance at 0x7ff0bbbc3a58>,\n",
       " <allennlp.data.instance.Instance at 0x7ff0bbbc30b8>,\n",
       " <allennlp.data.instance.Instance at 0x7ff0bbbc6c18>,\n",
       " <allennlp.data.instance.Instance at 0x7ff0bf507cc0>,\n",
       " <allennlp.data.instance.Instance at 0x7ff0bf50af60>]"
      ]
     },
     "execution_count": 16,
     "metadata": {},
     "output_type": "execute_result"
    }
   ],
   "source": [
    "train_ds[:10]"
   ]
  },
  {
   "cell_type": "code",
   "execution_count": 17,
   "metadata": {},
   "outputs": [
    {
     "data": {
      "text/plain": [
       "{'tokens': [Explanation,\n",
       "  Why,\n",
       "  the,\n",
       "  edits,\n",
       "  made,\n",
       "  under,\n",
       "  my,\n",
       "  username,\n",
       "  Hardcore,\n",
       "  Metallica,\n",
       "  Fan,\n",
       "  were,\n",
       "  reverted,\n",
       "  ?,\n",
       "  They,\n",
       "  were,\n",
       "  n't,\n",
       "  vandalisms,\n",
       "  ,,\n",
       "  just,\n",
       "  closure,\n",
       "  on,\n",
       "  some,\n",
       "  GAs,\n",
       "  after,\n",
       "  I,\n",
       "  voted,\n",
       "  at,\n",
       "  New,\n",
       "  York,\n",
       "  Dolls,\n",
       "  FAC,\n",
       "  .,\n",
       "  And,\n",
       "  please,\n",
       "  do,\n",
       "  n't,\n",
       "  remove,\n",
       "  the,\n",
       "  template,\n",
       "  from,\n",
       "  the,\n",
       "  talk,\n",
       "  page,\n",
       "  since,\n",
       "  I,\n",
       "  'm,\n",
       "  retired,\n",
       "  now.89.205.38.27],\n",
       " '_token_indexers': {'tokens': <allennlp.data.token_indexers.single_id_token_indexer.SingleIdTokenIndexer at 0x7ff0bfff5940>},\n",
       " '_indexed_tokens': None,\n",
       " '_indexer_name_to_indexed_token': None}"
      ]
     },
     "execution_count": 17,
     "metadata": {},
     "output_type": "execute_result"
    }
   ],
   "source": [
    "vars(train_ds[0].fields[\"tokens\"])"
   ]
  },
  {
   "cell_type": "code",
   "execution_count": null,
   "metadata": {},
   "outputs": [],
   "source": []
  },
  {
   "cell_type": "markdown",
   "metadata": {},
   "source": [
    "### Prepare vocabulary"
   ]
  },
  {
   "cell_type": "code",
   "execution_count": 18,
   "metadata": {},
   "outputs": [
    {
     "name": "stderr",
     "output_type": "stream",
     "text": [
      "06/06/2019 16:13:22 - INFO - allennlp.data.vocabulary -   Fitting token dictionary from dataset.\n",
      "\n",
      "  0%|          | 0/1000 [00:00<?, ?it/s]\u001b[A\n",
      "100%|██████████| 1000/1000 [00:00<00:00, 15049.58it/s]\u001b[A"
     ]
    }
   ],
   "source": [
    "vocab = Vocabulary.from_instances(train_ds, max_vocab_size=config.max_vocab_size)"
   ]
  },
  {
   "cell_type": "code",
   "execution_count": null,
   "metadata": {},
   "outputs": [],
   "source": []
  },
  {
   "cell_type": "markdown",
   "metadata": {},
   "source": [
    "### Prepare iterator"
   ]
  },
  {
   "cell_type": "markdown",
   "metadata": {},
   "source": [
    "The iterator is responsible for batching the data and preparing it for input into the model. We'll use the BucketIterator that batches text sequences of smilar lengths together."
   ]
  },
  {
   "cell_type": "code",
   "execution_count": 19,
   "metadata": {},
   "outputs": [],
   "source": [
    "from allennlp.data.iterators import BucketIterator"
   ]
  },
  {
   "cell_type": "code",
   "execution_count": 20,
   "metadata": {},
   "outputs": [],
   "source": [
    "iterator = BucketIterator(batch_size=config.batch_size, \n",
    "                          sorting_keys=[(\"tokens\", \"num_tokens\")],\n",
    "                         )"
   ]
  },
  {
   "cell_type": "markdown",
   "metadata": {},
   "source": [
    "We need to tell the iterator how to numericalize the text data. We do this by passing the vocabulary to the iterator. This step is easy to forget so be careful! "
   ]
  },
  {
   "cell_type": "code",
   "execution_count": 21,
   "metadata": {},
   "outputs": [],
   "source": [
    "iterator.index_with(vocab)"
   ]
  },
  {
   "cell_type": "markdown",
   "metadata": {},
   "source": [
    "### Read sample"
   ]
  },
  {
   "cell_type": "code",
   "execution_count": 22,
   "metadata": {},
   "outputs": [],
   "source": [
    "batch = next(iter(iterator(train_ds)))"
   ]
  },
  {
   "cell_type": "code",
   "execution_count": 23,
   "metadata": {},
   "outputs": [
    {
     "data": {
      "text/plain": [
       "{'tokens': {'tokens': tensor([[   3,   14,    9,  ...,    0,    0,    0],\n",
       "          [ 912,   15,   94,  ...,    0,    0,    0],\n",
       "          [ 683,    4,  250,  ...,    0,    0,    0],\n",
       "          ...,\n",
       "          [   5, 4205, 4206,  ...,    0,    0,    0],\n",
       "          [ 116,  157,   20,  ...,   54,   21,    0],\n",
       "          [1946, 2977, 2978,  ..., 6523,    0,    0]])},\n",
       " 'id': ['0228f8ff42b5cf40',\n",
       "  '021d68ecd1056359',\n",
       "  '011813b36dadcbe1',\n",
       "  '02ae218e901a58f0',\n",
       "  '028e859eada4bd90',\n",
       "  '02a36ddb2884cb16',\n",
       "  '0053978373606ba4',\n",
       "  '013004b25c95612e',\n",
       "  '015481306382caba',\n",
       "  '01c78f7b48cb8057',\n",
       "  '020c16fd5ab352ef',\n",
       "  '00ab1b314832a2d9',\n",
       "  '0296430035f695b9',\n",
       "  '01f3d14df61d3481',\n",
       "  '0206ea29807e8b6a',\n",
       "  '028b4485f9893caf',\n",
       "  '006fc8cfaa4faf0b',\n",
       "  '02031a9ccbd4bac8',\n",
       "  '02b0a716a458a796',\n",
       "  '02004db8cf8f91f0',\n",
       "  '00c438b052cc0f26',\n",
       "  '0278f245edc81773',\n",
       "  '012db3deb39d94ca',\n",
       "  '012d059ecf3c421b',\n",
       "  '00e3d92fb826eceb',\n",
       "  '01076f023a99d133',\n",
       "  '02195073bd639320',\n",
       "  '01728e7abf3ee345',\n",
       "  '00fd5ba387c6793e',\n",
       "  '022af9360c61f05f',\n",
       "  '01c7d4ac6779be3b',\n",
       "  '006b94add72ed61c',\n",
       "  '00dbfbe1f475c906',\n",
       "  '025eef0c244b5af4',\n",
       "  '006b77d41eb4bc08',\n",
       "  '00ed5cca8c8cfe00',\n",
       "  '016309265c788dc1',\n",
       "  '00bb617b7faeb50a',\n",
       "  '01ae187ccb39b910',\n",
       "  '00cb5743d3cf0645',\n",
       "  '00b47f6c58c6fe6a',\n",
       "  '021295eb6cc33203',\n",
       "  '00316bcc0d1bc6e0',\n",
       "  '004fd4fb5c47c29f',\n",
       "  '02a458e1bb43ac71',\n",
       "  '009a52daa8dbb767',\n",
       "  '019959905a59337c',\n",
       "  '01ead109dc3410ba',\n",
       "  '02a1ac2c706d3306',\n",
       "  '02060d554fedfbc1',\n",
       "  '00521847b93eba3b',\n",
       "  '00ff41da3e313991',\n",
       "  '01358bff1d2a9d73',\n",
       "  '00c3ce53cd972be0',\n",
       "  '006fda507acd9769',\n",
       "  '026bd33490542b2e',\n",
       "  '02477578811d15a3',\n",
       "  '01ae22088f9485c1',\n",
       "  '001e89eb3f0b0915',\n",
       "  '013c1a43411c5f9a',\n",
       "  '010eacf6e6739cd2',\n",
       "  '0066dcf7d9ecd360',\n",
       "  '003d77a20601cec1',\n",
       "  '01a9a03fc4001131'],\n",
       " 'label': tensor([[0., 0., 0., 0., 0., 0.],\n",
       "         [0., 0., 0., 0., 0., 0.],\n",
       "         [0., 0., 0., 0., 0., 0.],\n",
       "         [0., 0., 0., 0., 0., 0.],\n",
       "         [0., 0., 0., 0., 0., 0.],\n",
       "         [0., 0., 0., 0., 0., 0.],\n",
       "         [0., 0., 0., 0., 0., 0.],\n",
       "         [0., 0., 0., 0., 0., 0.],\n",
       "         [0., 0., 0., 0., 0., 0.],\n",
       "         [0., 0., 0., 0., 0., 0.],\n",
       "         [0., 0., 0., 0., 0., 0.],\n",
       "         [0., 0., 0., 0., 0., 0.],\n",
       "         [0., 0., 0., 0., 0., 0.],\n",
       "         [0., 0., 0., 0., 0., 0.],\n",
       "         [0., 0., 0., 0., 0., 0.],\n",
       "         [0., 0., 0., 0., 0., 0.],\n",
       "         [0., 0., 0., 0., 0., 0.],\n",
       "         [0., 0., 0., 0., 0., 0.],\n",
       "         [0., 0., 0., 0., 0., 0.],\n",
       "         [0., 0., 0., 0., 0., 0.],\n",
       "         [0., 0., 0., 0., 0., 0.],\n",
       "         [0., 0., 0., 0., 0., 0.],\n",
       "         [0., 0., 0., 0., 0., 0.],\n",
       "         [0., 0., 0., 0., 0., 0.],\n",
       "         [0., 0., 0., 0., 0., 0.],\n",
       "         [0., 0., 0., 0., 0., 0.],\n",
       "         [0., 0., 0., 0., 0., 0.],\n",
       "         [0., 0., 0., 0., 0., 0.],\n",
       "         [0., 0., 0., 0., 0., 0.],\n",
       "         [1., 0., 1., 0., 1., 0.],\n",
       "         [0., 0., 0., 0., 0., 0.],\n",
       "         [1., 0., 1., 1., 1., 1.],\n",
       "         [0., 0., 0., 0., 0., 0.],\n",
       "         [0., 0., 0., 0., 0., 0.],\n",
       "         [0., 0., 0., 0., 0., 0.],\n",
       "         [0., 0., 0., 0., 0., 0.],\n",
       "         [1., 0., 0., 0., 0., 0.],\n",
       "         [0., 0., 0., 0., 0., 0.],\n",
       "         [0., 0., 0., 0., 0., 0.],\n",
       "         [0., 0., 0., 0., 0., 0.],\n",
       "         [0., 0., 0., 0., 0., 0.],\n",
       "         [0., 0., 0., 0., 0., 0.],\n",
       "         [0., 0., 0., 0., 0., 0.],\n",
       "         [0., 0., 0., 0., 0., 0.],\n",
       "         [0., 0., 0., 0., 0., 0.],\n",
       "         [0., 0., 0., 0., 0., 0.],\n",
       "         [0., 0., 0., 0., 0., 0.],\n",
       "         [0., 0., 0., 0., 0., 0.],\n",
       "         [1., 0., 0., 0., 0., 0.],\n",
       "         [0., 0., 0., 0., 0., 0.],\n",
       "         [0., 0., 0., 0., 0., 0.],\n",
       "         [0., 0., 0., 0., 0., 0.],\n",
       "         [0., 0., 0., 0., 0., 0.],\n",
       "         [0., 0., 0., 0., 0., 0.],\n",
       "         [0., 0., 0., 0., 0., 0.],\n",
       "         [1., 1., 1., 0., 1., 1.],\n",
       "         [0., 0., 0., 0., 0., 0.],\n",
       "         [0., 0., 0., 0., 0., 0.],\n",
       "         [0., 0., 0., 0., 0., 0.],\n",
       "         [0., 0., 0., 0., 0., 0.],\n",
       "         [0., 0., 0., 0., 0., 0.],\n",
       "         [0., 0., 0., 0., 0., 0.],\n",
       "         [0., 0., 0., 0., 0., 0.],\n",
       "         [0., 0., 0., 0., 0., 0.]])}"
      ]
     },
     "execution_count": 23,
     "metadata": {},
     "output_type": "execute_result"
    }
   ],
   "source": [
    "batch"
   ]
  },
  {
   "cell_type": "code",
   "execution_count": 24,
   "metadata": {},
   "outputs": [
    {
     "data": {
      "text/plain": [
       "tensor([[   3,   14,    9,  ...,    0,    0,    0],\n",
       "        [ 912,   15,   94,  ...,    0,    0,    0],\n",
       "        [ 683,    4,  250,  ...,    0,    0,    0],\n",
       "        ...,\n",
       "        [   5, 4205, 4206,  ...,    0,    0,    0],\n",
       "        [ 116,  157,   20,  ...,   54,   21,    0],\n",
       "        [1946, 2977, 2978,  ..., 6523,    0,    0]])"
      ]
     },
     "execution_count": 24,
     "metadata": {},
     "output_type": "execute_result"
    }
   ],
   "source": [
    "batch[\"tokens\"][\"tokens\"]"
   ]
  },
  {
   "cell_type": "code",
   "execution_count": 25,
   "metadata": {},
   "outputs": [
    {
     "data": {
      "text/plain": [
       "torch.Size([64, 40])"
      ]
     },
     "execution_count": 25,
     "metadata": {},
     "output_type": "execute_result"
    }
   ],
   "source": [
    "batch[\"tokens\"][\"tokens\"].shape"
   ]
  },
  {
   "cell_type": "code",
   "execution_count": null,
   "metadata": {},
   "outputs": [],
   "source": []
  },
  {
   "cell_type": "markdown",
   "metadata": {},
   "source": [
    "# Prepare Model"
   ]
  },
  {
   "cell_type": "code",
   "execution_count": 26,
   "metadata": {},
   "outputs": [],
   "source": [
    "import torch\n",
    "import torch.nn as nn\n",
    "import torch.optim as optim"
   ]
  },
  {
   "cell_type": "code",
   "execution_count": 27,
   "metadata": {},
   "outputs": [
    {
     "name": "stderr",
     "output_type": "stream",
     "text": [
      "/home/arne/miniconda3/envs/allennlp_playground/lib/python3.6/site-packages/sklearn/utils/linear_assignment_.py:21: DeprecationWarning: The linear_assignment_ module is deprecated in 0.21 and will be removed from 0.23. Use scipy.optimize.linear_sum_assignment instead.\n",
      "  DeprecationWarning)\n"
     ]
    }
   ],
   "source": [
    "from allennlp.modules.seq2vec_encoders import Seq2VecEncoder, PytorchSeq2VecWrapper\n",
    "from allennlp.nn.util import get_text_field_mask\n",
    "from allennlp.models import Model\n",
    "from allennlp.modules.text_field_embedders import TextFieldEmbedder\n",
    "\n",
    "class BaselineModel(Model):\n",
    "    def __init__(self, word_embeddings: TextFieldEmbedder,\n",
    "                 encoder: Seq2VecEncoder,\n",
    "                 out_sz: int=len(label_cols)):\n",
    "        super().__init__(vocab)\n",
    "        self.word_embeddings = word_embeddings\n",
    "        self.encoder = encoder\n",
    "        self.projection = nn.Linear(self.encoder.get_output_dim(), out_sz)\n",
    "        self.loss = nn.BCEWithLogitsLoss()\n",
    "        \n",
    "    def forward(self, tokens: Dict[str, torch.Tensor],\n",
    "                id: Any, label: torch.Tensor) -> torch.Tensor:\n",
    "        mask = get_text_field_mask(tokens)\n",
    "        embeddings = self.word_embeddings(tokens)\n",
    "        state = self.encoder(embeddings, mask)\n",
    "        class_logits = self.projection(state)\n",
    "        \n",
    "        output = {\"class_logits\": class_logits}\n",
    "        output[\"loss\"] = self.loss(class_logits, label)\n",
    "\n",
    "        return output"
   ]
  },
  {
   "cell_type": "markdown",
   "metadata": {},
   "source": [
    "### Prepare embeddings"
   ]
  },
  {
   "cell_type": "code",
   "execution_count": 28,
   "metadata": {},
   "outputs": [],
   "source": [
    "from allennlp.modules.token_embedders import Embedding\n",
    "from allennlp.modules.text_field_embedders import BasicTextFieldEmbedder\n",
    "\n",
    "token_embedding = Embedding(num_embeddings=config.max_vocab_size + 2,\n",
    "                            embedding_dim=300, padding_index=0)\n",
    "# the embedder maps the input tokens to the appropriate embedding matrix\n",
    "word_embeddings: TextFieldEmbedder = BasicTextFieldEmbedder({\"tokens\": token_embedding})"
   ]
  },
  {
   "cell_type": "code",
   "execution_count": 29,
   "metadata": {},
   "outputs": [],
   "source": [
    "from allennlp.modules.seq2vec_encoders import PytorchSeq2VecWrapper\n",
    "encoder: Seq2VecEncoder = PytorchSeq2VecWrapper(nn.LSTM(word_embeddings.get_output_dim(),\n",
    "                                                        config.hidden_sz, bidirectional=True, batch_first=True))"
   ]
  },
  {
   "cell_type": "markdown",
   "metadata": {},
   "source": [
    "Notice how simple and modular the code for initializing the model is. All the complexity is delegated to each component."
   ]
  },
  {
   "cell_type": "code",
   "execution_count": 30,
   "metadata": {},
   "outputs": [],
   "source": [
    "model = BaselineModel(\n",
    "    word_embeddings, \n",
    "    encoder, \n",
    ")"
   ]
  },
  {
   "cell_type": "code",
   "execution_count": 31,
   "metadata": {},
   "outputs": [],
   "source": [
    "if USE_GPU: model.cuda()\n",
    "else: model"
   ]
  },
  {
   "cell_type": "code",
   "execution_count": null,
   "metadata": {},
   "outputs": [],
   "source": []
  },
  {
   "cell_type": "markdown",
   "metadata": {},
   "source": [
    "# Basic sanity checks"
   ]
  },
  {
   "cell_type": "code",
   "execution_count": 32,
   "metadata": {},
   "outputs": [],
   "source": [
    "batch = nn_util.move_to_device(batch, 0 if USE_GPU else -1)"
   ]
  },
  {
   "cell_type": "code",
   "execution_count": 33,
   "metadata": {},
   "outputs": [],
   "source": [
    "tokens = batch[\"tokens\"]\n",
    "labels = batch"
   ]
  },
  {
   "cell_type": "code",
   "execution_count": 34,
   "metadata": {},
   "outputs": [
    {
     "data": {
      "text/plain": [
       "{'tokens': tensor([[   3,   14,    9,  ...,    0,    0,    0],\n",
       "         [ 912,   15,   94,  ...,    0,    0,    0],\n",
       "         [ 683,    4,  250,  ...,    0,    0,    0],\n",
       "         ...,\n",
       "         [   5, 4205, 4206,  ...,    0,    0,    0],\n",
       "         [ 116,  157,   20,  ...,   54,   21,    0],\n",
       "         [1946, 2977, 2978,  ..., 6523,    0,    0]])}"
      ]
     },
     "execution_count": 34,
     "metadata": {},
     "output_type": "execute_result"
    }
   ],
   "source": [
    "tokens"
   ]
  },
  {
   "cell_type": "code",
   "execution_count": 35,
   "metadata": {},
   "outputs": [
    {
     "data": {
      "text/plain": [
       "tensor([[1, 1, 1,  ..., 0, 0, 0],\n",
       "        [1, 1, 1,  ..., 0, 0, 0],\n",
       "        [1, 1, 1,  ..., 0, 0, 0],\n",
       "        ...,\n",
       "        [1, 1, 1,  ..., 0, 0, 0],\n",
       "        [1, 1, 1,  ..., 1, 1, 0],\n",
       "        [1, 1, 1,  ..., 1, 0, 0]])"
      ]
     },
     "execution_count": 35,
     "metadata": {},
     "output_type": "execute_result"
    }
   ],
   "source": [
    "mask = get_text_field_mask(tokens)\n",
    "mask"
   ]
  },
  {
   "cell_type": "code",
   "execution_count": 36,
   "metadata": {},
   "outputs": [
    {
     "data": {
      "text/plain": [
       "tensor([[-0.0395,  0.0811, -0.0303,  0.0291,  0.0160, -0.0256],\n",
       "        [-0.0389,  0.0811, -0.0297,  0.0274,  0.0173, -0.0238],\n",
       "        [-0.0381,  0.0792, -0.0313,  0.0284,  0.0153, -0.0257],\n",
       "        [-0.0394,  0.0806, -0.0302,  0.0265,  0.0165, -0.0245],\n",
       "        [-0.0389,  0.0801, -0.0313,  0.0256,  0.0167, -0.0264],\n",
       "        [-0.0410,  0.0791, -0.0308,  0.0291,  0.0168, -0.0246],\n",
       "        [-0.0385,  0.0799, -0.0303,  0.0274,  0.0173, -0.0245],\n",
       "        [-0.0392,  0.0810, -0.0318,  0.0293,  0.0153, -0.0259],\n",
       "        [-0.0387,  0.0808, -0.0310,  0.0278,  0.0156, -0.0251],\n",
       "        [-0.0387,  0.0807, -0.0307,  0.0261,  0.0166, -0.0250],\n",
       "        [-0.0379,  0.0803, -0.0328,  0.0280,  0.0171, -0.0236],\n",
       "        [-0.0381,  0.0805, -0.0335,  0.0296,  0.0170, -0.0263],\n",
       "        [-0.0381,  0.0815, -0.0312,  0.0288,  0.0160, -0.0249],\n",
       "        [-0.0396,  0.0805, -0.0313,  0.0284,  0.0166, -0.0241],\n",
       "        [-0.0386,  0.0795, -0.0309,  0.0279,  0.0162, -0.0235],\n",
       "        [-0.0387,  0.0815, -0.0301,  0.0287,  0.0172, -0.0252],\n",
       "        [-0.0391,  0.0794, -0.0287,  0.0290,  0.0164, -0.0241],\n",
       "        [-0.0396,  0.0799, -0.0320,  0.0286,  0.0156, -0.0256],\n",
       "        [-0.0379,  0.0807, -0.0300,  0.0255,  0.0164, -0.0247],\n",
       "        [-0.0409,  0.0792, -0.0303,  0.0287,  0.0175, -0.0249],\n",
       "        [-0.0390,  0.0818, -0.0306,  0.0284,  0.0154, -0.0262],\n",
       "        [-0.0396,  0.0806, -0.0315,  0.0287,  0.0165, -0.0241],\n",
       "        [-0.0378,  0.0806, -0.0311,  0.0273,  0.0160, -0.0237],\n",
       "        [-0.0383,  0.0793, -0.0299,  0.0287,  0.0150, -0.0256],\n",
       "        [-0.0398,  0.0808, -0.0314,  0.0282,  0.0165, -0.0249],\n",
       "        [-0.0393,  0.0805, -0.0307,  0.0262,  0.0166, -0.0249],\n",
       "        [-0.0394,  0.0792, -0.0318,  0.0264,  0.0164, -0.0252],\n",
       "        [-0.0389,  0.0795, -0.0305,  0.0286,  0.0156, -0.0245],\n",
       "        [-0.0385,  0.0810, -0.0310,  0.0262,  0.0170, -0.0245],\n",
       "        [-0.0379,  0.0811, -0.0315,  0.0283,  0.0170, -0.0247],\n",
       "        [-0.0391,  0.0793, -0.0317,  0.0279,  0.0169, -0.0238],\n",
       "        [-0.0403,  0.0804, -0.0317,  0.0278,  0.0168, -0.0250],\n",
       "        [-0.0398,  0.0800, -0.0315,  0.0260,  0.0168, -0.0249],\n",
       "        [-0.0387,  0.0802, -0.0325,  0.0274,  0.0161, -0.0232],\n",
       "        [-0.0379,  0.0805, -0.0308,  0.0282,  0.0163, -0.0247],\n",
       "        [-0.0388,  0.0815, -0.0326,  0.0292,  0.0184, -0.0239],\n",
       "        [-0.0374,  0.0817, -0.0307,  0.0294,  0.0161, -0.0258],\n",
       "        [-0.0413,  0.0799, -0.0293,  0.0292,  0.0180, -0.0257],\n",
       "        [-0.0412,  0.0799, -0.0302,  0.0285,  0.0173, -0.0249],\n",
       "        [-0.0392,  0.0807, -0.0316,  0.0271,  0.0151, -0.0248],\n",
       "        [-0.0380,  0.0811, -0.0301,  0.0258,  0.0173, -0.0255],\n",
       "        [-0.0387,  0.0808, -0.0314,  0.0274,  0.0165, -0.0249],\n",
       "        [-0.0397,  0.0805, -0.0311,  0.0286,  0.0163, -0.0251],\n",
       "        [-0.0399,  0.0796, -0.0310,  0.0267,  0.0169, -0.0255],\n",
       "        [-0.0385,  0.0811, -0.0308,  0.0262,  0.0170, -0.0250],\n",
       "        [-0.0401,  0.0797, -0.0320,  0.0289,  0.0166, -0.0238],\n",
       "        [-0.0389,  0.0820, -0.0310,  0.0283,  0.0172, -0.0240],\n",
       "        [-0.0386,  0.0803, -0.0295,  0.0263,  0.0164, -0.0251],\n",
       "        [-0.0395,  0.0814, -0.0304,  0.0283,  0.0159, -0.0245],\n",
       "        [-0.0390,  0.0811, -0.0316,  0.0289,  0.0165, -0.0251],\n",
       "        [-0.0383,  0.0804, -0.0305,  0.0264,  0.0169, -0.0249],\n",
       "        [-0.0394,  0.0810, -0.0302,  0.0267,  0.0171, -0.0257],\n",
       "        [-0.0393,  0.0805, -0.0296,  0.0287,  0.0164, -0.0266],\n",
       "        [-0.0389,  0.0796, -0.0306,  0.0264,  0.0161, -0.0261],\n",
       "        [-0.0383,  0.0817, -0.0315,  0.0262,  0.0165, -0.0243],\n",
       "        [-0.0371,  0.0806, -0.0315,  0.0274,  0.0166, -0.0260],\n",
       "        [-0.0396,  0.0812, -0.0305,  0.0271,  0.0172, -0.0248],\n",
       "        [-0.0393,  0.0807, -0.0305,  0.0284,  0.0160, -0.0255],\n",
       "        [-0.0389,  0.0810, -0.0303,  0.0280,  0.0163, -0.0246],\n",
       "        [-0.0407,  0.0806, -0.0303,  0.0288,  0.0155, -0.0243],\n",
       "        [-0.0391,  0.0794, -0.0309,  0.0277,  0.0145, -0.0260],\n",
       "        [-0.0392,  0.0806, -0.0303,  0.0262,  0.0160, -0.0263],\n",
       "        [-0.0399,  0.0796, -0.0308,  0.0291,  0.0162, -0.0260],\n",
       "        [-0.0387,  0.0805, -0.0332,  0.0277,  0.0159, -0.0257]],\n",
       "       grad_fn=<ThAddmmBackward>)"
      ]
     },
     "execution_count": 36,
     "metadata": {},
     "output_type": "execute_result"
    }
   ],
   "source": [
    "embeddings = model.word_embeddings(tokens)\n",
    "state = model.encoder(embeddings, mask)\n",
    "class_logits = model.projection(state)\n",
    "class_logits"
   ]
  },
  {
   "cell_type": "code",
   "execution_count": 37,
   "metadata": {},
   "outputs": [
    {
     "data": {
      "text/plain": [
       "{'class_logits': tensor([[-0.0395,  0.0811, -0.0303,  0.0291,  0.0160, -0.0256],\n",
       "         [-0.0389,  0.0811, -0.0297,  0.0274,  0.0173, -0.0238],\n",
       "         [-0.0381,  0.0792, -0.0313,  0.0284,  0.0153, -0.0257],\n",
       "         [-0.0394,  0.0806, -0.0302,  0.0265,  0.0165, -0.0245],\n",
       "         [-0.0389,  0.0801, -0.0313,  0.0256,  0.0167, -0.0264],\n",
       "         [-0.0410,  0.0791, -0.0308,  0.0291,  0.0168, -0.0246],\n",
       "         [-0.0385,  0.0799, -0.0303,  0.0274,  0.0173, -0.0245],\n",
       "         [-0.0392,  0.0810, -0.0318,  0.0293,  0.0153, -0.0259],\n",
       "         [-0.0387,  0.0808, -0.0310,  0.0278,  0.0156, -0.0251],\n",
       "         [-0.0387,  0.0807, -0.0307,  0.0261,  0.0166, -0.0250],\n",
       "         [-0.0379,  0.0803, -0.0328,  0.0280,  0.0171, -0.0236],\n",
       "         [-0.0381,  0.0805, -0.0335,  0.0296,  0.0170, -0.0263],\n",
       "         [-0.0381,  0.0815, -0.0312,  0.0288,  0.0160, -0.0249],\n",
       "         [-0.0396,  0.0805, -0.0313,  0.0284,  0.0166, -0.0241],\n",
       "         [-0.0386,  0.0795, -0.0309,  0.0279,  0.0162, -0.0235],\n",
       "         [-0.0387,  0.0815, -0.0301,  0.0287,  0.0172, -0.0252],\n",
       "         [-0.0391,  0.0794, -0.0287,  0.0290,  0.0164, -0.0241],\n",
       "         [-0.0396,  0.0799, -0.0320,  0.0286,  0.0156, -0.0256],\n",
       "         [-0.0379,  0.0807, -0.0300,  0.0255,  0.0164, -0.0247],\n",
       "         [-0.0409,  0.0792, -0.0303,  0.0287,  0.0175, -0.0249],\n",
       "         [-0.0390,  0.0818, -0.0306,  0.0284,  0.0154, -0.0262],\n",
       "         [-0.0396,  0.0806, -0.0315,  0.0287,  0.0165, -0.0241],\n",
       "         [-0.0378,  0.0806, -0.0311,  0.0273,  0.0160, -0.0237],\n",
       "         [-0.0383,  0.0793, -0.0299,  0.0287,  0.0150, -0.0256],\n",
       "         [-0.0398,  0.0808, -0.0314,  0.0282,  0.0165, -0.0249],\n",
       "         [-0.0393,  0.0805, -0.0307,  0.0262,  0.0166, -0.0249],\n",
       "         [-0.0394,  0.0792, -0.0318,  0.0264,  0.0164, -0.0252],\n",
       "         [-0.0389,  0.0795, -0.0305,  0.0286,  0.0156, -0.0245],\n",
       "         [-0.0385,  0.0810, -0.0310,  0.0262,  0.0170, -0.0245],\n",
       "         [-0.0379,  0.0811, -0.0315,  0.0283,  0.0170, -0.0247],\n",
       "         [-0.0391,  0.0793, -0.0317,  0.0279,  0.0169, -0.0238],\n",
       "         [-0.0403,  0.0804, -0.0317,  0.0278,  0.0168, -0.0250],\n",
       "         [-0.0398,  0.0800, -0.0315,  0.0260,  0.0168, -0.0249],\n",
       "         [-0.0387,  0.0802, -0.0325,  0.0274,  0.0161, -0.0232],\n",
       "         [-0.0379,  0.0805, -0.0308,  0.0282,  0.0163, -0.0247],\n",
       "         [-0.0388,  0.0815, -0.0326,  0.0292,  0.0184, -0.0239],\n",
       "         [-0.0374,  0.0817, -0.0307,  0.0294,  0.0161, -0.0258],\n",
       "         [-0.0413,  0.0799, -0.0293,  0.0292,  0.0180, -0.0257],\n",
       "         [-0.0412,  0.0799, -0.0302,  0.0285,  0.0173, -0.0249],\n",
       "         [-0.0392,  0.0807, -0.0316,  0.0271,  0.0151, -0.0248],\n",
       "         [-0.0380,  0.0811, -0.0301,  0.0258,  0.0173, -0.0255],\n",
       "         [-0.0387,  0.0808, -0.0314,  0.0274,  0.0165, -0.0249],\n",
       "         [-0.0397,  0.0805, -0.0311,  0.0286,  0.0163, -0.0251],\n",
       "         [-0.0399,  0.0796, -0.0310,  0.0267,  0.0169, -0.0255],\n",
       "         [-0.0385,  0.0811, -0.0308,  0.0262,  0.0170, -0.0250],\n",
       "         [-0.0401,  0.0797, -0.0320,  0.0289,  0.0166, -0.0238],\n",
       "         [-0.0389,  0.0820, -0.0310,  0.0283,  0.0172, -0.0240],\n",
       "         [-0.0386,  0.0803, -0.0295,  0.0263,  0.0164, -0.0251],\n",
       "         [-0.0395,  0.0814, -0.0304,  0.0283,  0.0159, -0.0245],\n",
       "         [-0.0390,  0.0811, -0.0316,  0.0289,  0.0165, -0.0251],\n",
       "         [-0.0383,  0.0804, -0.0305,  0.0264,  0.0169, -0.0249],\n",
       "         [-0.0394,  0.0810, -0.0302,  0.0267,  0.0171, -0.0257],\n",
       "         [-0.0393,  0.0805, -0.0296,  0.0287,  0.0164, -0.0266],\n",
       "         [-0.0389,  0.0796, -0.0306,  0.0264,  0.0161, -0.0261],\n",
       "         [-0.0383,  0.0817, -0.0315,  0.0262,  0.0165, -0.0243],\n",
       "         [-0.0371,  0.0806, -0.0315,  0.0274,  0.0166, -0.0260],\n",
       "         [-0.0396,  0.0812, -0.0305,  0.0271,  0.0172, -0.0248],\n",
       "         [-0.0393,  0.0807, -0.0305,  0.0284,  0.0160, -0.0255],\n",
       "         [-0.0389,  0.0810, -0.0303,  0.0280,  0.0163, -0.0246],\n",
       "         [-0.0407,  0.0806, -0.0303,  0.0288,  0.0155, -0.0243],\n",
       "         [-0.0391,  0.0794, -0.0309,  0.0277,  0.0145, -0.0260],\n",
       "         [-0.0392,  0.0806, -0.0303,  0.0262,  0.0160, -0.0263],\n",
       "         [-0.0399,  0.0796, -0.0308,  0.0291,  0.0162, -0.0260],\n",
       "         [-0.0387,  0.0805, -0.0332,  0.0277,  0.0159, -0.0257]],\n",
       "        grad_fn=<ThAddmmBackward>),\n",
       " 'loss': tensor(0.6963, grad_fn=<MeanBackward1>)}"
      ]
     },
     "execution_count": 37,
     "metadata": {},
     "output_type": "execute_result"
    }
   ],
   "source": [
    "model(**batch)"
   ]
  },
  {
   "cell_type": "code",
   "execution_count": 38,
   "metadata": {},
   "outputs": [],
   "source": [
    "loss = model(**batch)[\"loss\"]"
   ]
  },
  {
   "cell_type": "code",
   "execution_count": 41,
   "metadata": {},
   "outputs": [
    {
     "data": {
      "text/plain": [
       "tensor(0.6963, grad_fn=<MeanBackward1>)"
      ]
     },
     "execution_count": 41,
     "metadata": {},
     "output_type": "execute_result"
    }
   ],
   "source": [
    "loss"
   ]
  },
  {
   "cell_type": "code",
   "execution_count": 42,
   "metadata": {},
   "outputs": [
    {
     "ename": "RuntimeError",
     "evalue": "Trying to backward through the graph a second time, but the buffers have already been freed. Specify retain_graph=True when calling backward the first time.",
     "output_type": "error",
     "traceback": [
      "\u001b[0;31m---------------------------------------------------------------------------\u001b[0m",
      "\u001b[0;31mRuntimeError\u001b[0m                              Traceback (most recent call last)",
      "\u001b[0;32m<ipython-input-42-52a0569421b1>\u001b[0m in \u001b[0;36m<module>\u001b[0;34m\u001b[0m\n\u001b[0;32m----> 1\u001b[0;31m \u001b[0mloss\u001b[0m\u001b[0;34m.\u001b[0m\u001b[0mbackward\u001b[0m\u001b[0;34m(\u001b[0m\u001b[0;34m)\u001b[0m\u001b[0;34m\u001b[0m\u001b[0;34m\u001b[0m\u001b[0m\n\u001b[0m",
      "\u001b[0;32m~/miniconda3/envs/allennlp_playground/lib/python3.6/site-packages/torch/tensor.py\u001b[0m in \u001b[0;36mbackward\u001b[0;34m(self, gradient, retain_graph, create_graph)\u001b[0m\n\u001b[1;32m     91\u001b[0m                 \u001b[0mproducts\u001b[0m\u001b[0;34m.\u001b[0m \u001b[0mDefaults\u001b[0m \u001b[0mto\u001b[0m\u001b[0;31m \u001b[0m\u001b[0;31m`\u001b[0m\u001b[0;31m`\u001b[0m\u001b[0;32mFalse\u001b[0m\u001b[0;31m`\u001b[0m\u001b[0;31m`\u001b[0m\u001b[0;34m.\u001b[0m\u001b[0;34m\u001b[0m\u001b[0;34m\u001b[0m\u001b[0m\n\u001b[1;32m     92\u001b[0m         \"\"\"\n\u001b[0;32m---> 93\u001b[0;31m         \u001b[0mtorch\u001b[0m\u001b[0;34m.\u001b[0m\u001b[0mautograd\u001b[0m\u001b[0;34m.\u001b[0m\u001b[0mbackward\u001b[0m\u001b[0;34m(\u001b[0m\u001b[0mself\u001b[0m\u001b[0;34m,\u001b[0m \u001b[0mgradient\u001b[0m\u001b[0;34m,\u001b[0m \u001b[0mretain_graph\u001b[0m\u001b[0;34m,\u001b[0m \u001b[0mcreate_graph\u001b[0m\u001b[0;34m)\u001b[0m\u001b[0;34m\u001b[0m\u001b[0;34m\u001b[0m\u001b[0m\n\u001b[0m\u001b[1;32m     94\u001b[0m \u001b[0;34m\u001b[0m\u001b[0m\n\u001b[1;32m     95\u001b[0m     \u001b[0;32mdef\u001b[0m \u001b[0mregister_hook\u001b[0m\u001b[0;34m(\u001b[0m\u001b[0mself\u001b[0m\u001b[0;34m,\u001b[0m \u001b[0mhook\u001b[0m\u001b[0;34m)\u001b[0m\u001b[0;34m:\u001b[0m\u001b[0;34m\u001b[0m\u001b[0;34m\u001b[0m\u001b[0m\n",
      "\u001b[0;32m~/miniconda3/envs/allennlp_playground/lib/python3.6/site-packages/torch/autograd/__init__.py\u001b[0m in \u001b[0;36mbackward\u001b[0;34m(tensors, grad_tensors, retain_graph, create_graph, grad_variables)\u001b[0m\n\u001b[1;32m     88\u001b[0m     Variable._execution_engine.run_backward(\n\u001b[1;32m     89\u001b[0m         \u001b[0mtensors\u001b[0m\u001b[0;34m,\u001b[0m \u001b[0mgrad_tensors\u001b[0m\u001b[0;34m,\u001b[0m \u001b[0mretain_graph\u001b[0m\u001b[0;34m,\u001b[0m \u001b[0mcreate_graph\u001b[0m\u001b[0;34m,\u001b[0m\u001b[0;34m\u001b[0m\u001b[0;34m\u001b[0m\u001b[0m\n\u001b[0;32m---> 90\u001b[0;31m         allow_unreachable=True)  # allow_unreachable flag\n\u001b[0m\u001b[1;32m     91\u001b[0m \u001b[0;34m\u001b[0m\u001b[0m\n\u001b[1;32m     92\u001b[0m \u001b[0;34m\u001b[0m\u001b[0m\n",
      "\u001b[0;31mRuntimeError\u001b[0m: Trying to backward through the graph a second time, but the buffers have already been freed. Specify retain_graph=True when calling backward the first time."
     ]
    }
   ],
   "source": [
    "loss.backward()"
   ]
  },
  {
   "cell_type": "code",
   "execution_count": null,
   "metadata": {},
   "outputs": [],
   "source": []
  },
  {
   "cell_type": "markdown",
   "metadata": {},
   "source": [
    "# Train"
   ]
  },
  {
   "cell_type": "code",
   "execution_count": 43,
   "metadata": {},
   "outputs": [],
   "source": [
    "optimizer = optim.Adam(model.parameters(), lr=config.lr)"
   ]
  },
  {
   "cell_type": "code",
   "execution_count": 44,
   "metadata": {},
   "outputs": [],
   "source": [
    "from allennlp.training.trainer import Trainer\n",
    "\n",
    "trainer = Trainer(\n",
    "    model=model,\n",
    "    optimizer=optimizer,\n",
    "    iterator=iterator,\n",
    "    train_dataset=train_ds,\n",
    "    cuda_device=0 if USE_GPU else -1,\n",
    "    num_epochs=config.epochs,\n",
    ")"
   ]
  },
  {
   "cell_type": "code",
   "execution_count": 45,
   "metadata": {},
   "outputs": [
    {
     "name": "stderr",
     "output_type": "stream",
     "text": [
      "06/06/2019 16:16:01 - INFO - allennlp.training.trainer -   Beginning training.\n",
      "06/06/2019 16:16:01 - INFO - allennlp.training.trainer -   Epoch 0/1\n",
      "06/06/2019 16:16:01 - INFO - allennlp.training.trainer -   Peak CPU memory usage MB: 897.392\n",
      "06/06/2019 16:16:01 - INFO - allennlp.training.trainer -   Training\n",
      "\n",
      "  0%|          | 0/16 [00:00<?, ?it/s]\u001b[A\n",
      "loss: 0.6970 ||:   6%|▋         | 1/16 [00:00<00:09,  1.52it/s]\u001b[A\n",
      "loss: 0.6953 ||:  12%|█▎        | 2/16 [00:01<00:11,  1.24it/s]\u001b[A\n",
      "loss: 0.6941 ||:  19%|█▉        | 3/16 [00:03<00:12,  1.06it/s]\u001b[A\n",
      "loss: 0.6930 ||:  25%|██▌       | 4/16 [00:03<00:09,  1.24it/s]\u001b[A\n",
      "loss: 0.6924 ||:  31%|███▏      | 5/16 [00:03<00:07,  1.49it/s]\u001b[A\n",
      "loss: 0.6913 ||:  38%|███▊      | 6/16 [00:04<00:07,  1.36it/s]\u001b[A\n",
      "loss: 0.6905 ||:  44%|████▍     | 7/16 [00:05<00:05,  1.63it/s]\u001b[A\n",
      "loss: 0.6896 ||:  50%|█████     | 8/16 [00:05<00:04,  1.82it/s]\u001b[A\n",
      "loss: 0.6886 ||:  56%|█████▋    | 9/16 [00:06<00:04,  1.57it/s]\u001b[A\n",
      "loss: 0.6876 ||:  62%|██████▎   | 10/16 [00:07<00:04,  1.22it/s]\u001b[A\n",
      "loss: 0.6866 ||:  69%|██████▉   | 11/16 [00:08<00:03,  1.45it/s]\u001b[A\n",
      "loss: 0.6854 ||:  75%|███████▌  | 12/16 [00:09<00:03,  1.26it/s]\u001b[A\n",
      "loss: 0.6843 ||:  81%|████████▏ | 13/16 [00:09<00:02,  1.36it/s]\u001b[A\n",
      "loss: 0.6833 ||:  88%|████████▊ | 14/16 [00:10<00:01,  1.15it/s]\u001b[A\n",
      "loss: 0.6823 ||:  94%|█████████▍| 15/16 [00:11<00:00,  1.38it/s]\u001b[A\n",
      "loss: 0.6812 ||: 100%|██████████| 16/16 [00:11<00:00,  1.44it/s]\u001b[A06/06/2019 16:16:13 - INFO - allennlp.training.trainer -            Training |  Validation\n",
      "06/06/2019 16:16:13 - INFO - allennlp.training.trainer -   loss |     0.681  |       N/A\n",
      "06/06/2019 16:16:13 - INFO - allennlp.training.trainer -   Epoch duration: 00:00:11\n",
      "06/06/2019 16:16:13 - INFO - allennlp.training.trainer -   Estimated training time remaining: 0:00:11\n",
      "06/06/2019 16:16:13 - INFO - allennlp.training.trainer -   Epoch 1/1\n",
      "06/06/2019 16:16:13 - INFO - allennlp.training.trainer -   Peak CPU memory usage MB: 1190.816\n",
      "06/06/2019 16:16:13 - INFO - allennlp.training.trainer -   Training\n",
      "\n",
      "  0%|          | 0/16 [00:00<?, ?it/s]\u001b[A\n",
      "loss: 0.6617 ||:   6%|▋         | 1/16 [00:00<00:09,  1.60it/s]\u001b[A\n",
      "loss: 0.6597 ||:  12%|█▎        | 2/16 [00:01<00:11,  1.24it/s]\u001b[A\n",
      "loss: 0.6591 ||:  19%|█▉        | 3/16 [00:02<00:10,  1.21it/s]\u001b[A\n",
      "loss: 0.6584 ||:  25%|██▌       | 4/16 [00:03<00:08,  1.45it/s]\u001b[A\n",
      "loss: 0.6570 ||:  31%|███▏      | 5/16 [00:04<00:09,  1.16it/s]\u001b[A\n",
      "loss: 0.6555 ||:  38%|███▊      | 6/16 [00:05<00:08,  1.25it/s]\u001b[A\n",
      "loss: 0.6543 ||:  44%|████▍     | 7/16 [00:05<00:07,  1.23it/s]\u001b[A\n",
      "loss: 0.6529 ||:  50%|█████     | 8/16 [00:06<00:07,  1.10it/s]\u001b[A\n",
      "loss: 0.6529 ||:  56%|█████▋    | 9/16 [00:07<00:05,  1.36it/s]\u001b[A\n",
      "loss: 0.6515 ||:  62%|██████▎   | 10/16 [00:07<00:03,  1.51it/s]\u001b[A\n",
      "loss: 0.6498 ||:  69%|██████▉   | 11/16 [00:09<00:04,  1.17it/s]\u001b[A\n",
      "loss: 0.6488 ||:  75%|███████▌  | 12/16 [00:09<00:02,  1.40it/s]\u001b[A\n",
      "loss: 0.6471 ||:  81%|████████▏ | 13/16 [00:10<00:02,  1.27it/s]\u001b[A\n",
      "loss: 0.6458 ||:  88%|████████▊ | 14/16 [00:10<00:01,  1.47it/s]\u001b[A\n",
      "loss: 0.6446 ||:  94%|█████████▍| 15/16 [00:11<00:00,  1.69it/s]\u001b[A\n",
      "loss: 0.6432 ||: 100%|██████████| 16/16 [00:11<00:00,  1.81it/s]\u001b[A06/06/2019 16:16:25 - INFO - allennlp.training.trainer -            Training |  Validation\n",
      "06/06/2019 16:16:25 - INFO - allennlp.training.trainer -   loss |     0.643  |       N/A\n",
      "06/06/2019 16:16:25 - INFO - allennlp.training.trainer -   Epoch duration: 00:00:11\n"
     ]
    }
   ],
   "source": [
    "metrics = trainer.train()"
   ]
  },
  {
   "cell_type": "code",
   "execution_count": null,
   "metadata": {},
   "outputs": [],
   "source": []
  }
 ],
 "metadata": {
  "celltoolbar": "Tags",
  "kernelspec": {
   "display_name": "Python [conda env:allennlp_playground]",
   "language": "python",
   "name": "conda-env-allennlp_playground-py"
  },
  "language_info": {
   "codemirror_mode": {
    "name": "ipython",
    "version": 3
   },
   "file_extension": ".py",
   "mimetype": "text/x-python",
   "name": "python",
   "nbconvert_exporter": "python",
   "pygments_lexer": "ipython3",
   "version": "3.6.7"
  }
 },
 "nbformat": 4,
 "nbformat_minor": 2
}
